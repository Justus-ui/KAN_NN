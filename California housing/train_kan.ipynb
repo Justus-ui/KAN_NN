{
 "cells": [
  {
   "cell_type": "code",
   "execution_count": null,
   "metadata": {},
   "outputs": [],
   "source": [
    "import numpy as np\n",
    "import matplotlib.pyplot as plt\n",
    "import torch\n",
    "import torch.nn as nn\n",
    "import torch.optim as optim\n",
    "import math\n",
    "import os "
   ]
  },
  {
   "cell_type": "code",
   "execution_count": null,
   "metadata": {},
   "outputs": [],
   "source": [
    "import sys\n",
    "sys.path.append(os.path.abspath(os.path.join(os.getcwd(), \"..\")))\n",
    "import Kan_NN\n",
    "import importlib\n",
    "importlib.reload(Kan_NN)"
   ]
  },
  {
   "cell_type": "code",
   "execution_count": null,
   "metadata": {},
   "outputs": [],
   "source": [
    "##### Problem\n",
    "in_dim = 8\n",
    "degree = 2\n",
    "h = [16]"
   ]
  },
  {
   "cell_type": "code",
   "execution_count": null,
   "metadata": {},
   "outputs": [],
   "source": [
    "import random\n",
    "random.seed(42)\n",
    "from torch.utils.data import TensorDataset, DataLoader\n",
    "from sklearn.datasets import fetch_california_housing\n",
    "from sklearn.model_selection import train_test_split\n",
    "from sklearn.preprocessing import StandardScaler\n",
    "\n",
    "# Load dataset\n",
    "california_housing = fetch_california_housing(as_frame=True)\n",
    "X = california_housing.data.values  # Convert DataFrame to NumPy array\n",
    "y = california_housing.target.values.reshape(-1, 1)  # Reshape target to match PyTorch format\n",
    "\n",
    "# Split dataset\n",
    "X_train, X_test, y_train, y_test = train_test_split(X, y, test_size=0.2, random_state=42)\n",
    "\n",
    "# Normalize features for better training stability\n",
    "scaler = StandardScaler()\n",
    "X_train = scaler.fit_transform(X_train)\n",
    "X_test = scaler.transform(X_test)\n",
    "\n",
    "# Convert NumPy arrays to PyTorch tensors\n",
    "X_train_tensor = torch.tensor(X_train, dtype=torch.float32)\n",
    "y_train_tensor = torch.tensor(y_train, dtype=torch.float32)\n",
    "X_test_tensor = torch.tensor(X_test, dtype=torch.float32)\n",
    "y_test_tensor = torch.tensor(y_test, dtype=torch.float32)\n",
    "\n",
    "# Create TensorDataset\n",
    "train_dataset = TensorDataset(X_train_tensor, y_train_tensor)\n",
    "test_dataset = TensorDataset(X_test_tensor, y_test_tensor)\n",
    "\n",
    "# Create DataLoaders with batch size\n",
    "batch_size = 1024  # Set batch size\n",
    "train_loader = DataLoader(train_dataset, batch_size=batch_size, shuffle=True)\n",
    "batch_test = 1\n",
    "test_loader = DataLoader(test_dataset, batch_size=batch_test, shuffle=False)\n",
    "\n",
    "\n",
    "# Check a sample batch\n",
    "for batch in train_loader:\n",
    "    X_batch, y_batch = batch\n",
    "    print(f\"Batch X shape: {X_batch.shape}, Batch y shape: {y_batch.shape}\")\n",
    "    break  # Print only one batch for verification\n"
   ]
  },
  {
   "cell_type": "code",
   "execution_count": null,
   "metadata": {},
   "outputs": [],
   "source": [
    "@torch.no_grad()\n",
    "def compute_test_loss(test_loader, model):\n",
    "    criterion = torch.nn.MSELoss()\n",
    "    running_loss = 0.\n",
    "    for batch, target in test_loader:\n",
    "        outputs = model(batch)\n",
    "        loss = criterion(target, outputs)\n",
    "        running_loss += loss.item()\n",
    "    return running_loss / len(test_loader)"
   ]
  },
  {
   "cell_type": "code",
   "execution_count": null,
   "metadata": {},
   "outputs": [],
   "source": [
    "import time\n",
    "models = []\n",
    "parameters = []\n",
    "train_losses = []\n",
    "test_losses = []\n",
    "max_depth = 2\n",
    "width = 1\n",
    "for depth in range(1,max_depth):\n",
    "    mods = []\n",
    "    pars = []\n",
    "    for i in range(width):\n",
    "        shape = [8] + [2**i for _ in range(j)] + [1]\n",
    "        model = Kan_NN.Neural_Kan(shape = shape, h = [32])\n",
    "        print(shape, model.params)\n",
    "        pars.append(model.params)\n",
    "        epochs = 1\n",
    "        train_loss = []\n",
    "        test_loss = []\n",
    "        model.train()\n",
    "        optimizer = optim.AdamW(model.parameters(), lr=0.001, weight_decay=0)\n",
    "        criterion = torch.nn.MSELoss()\n",
    "        for epoch in range(epochs):\n",
    "            running_loss = 0.0 \n",
    "            for batch, target in train_loader:\n",
    "                start_time = time.time()\n",
    "                optimizer.zero_grad()\n",
    "                outputs = model(batch)\n",
    "                loss = criterion(target, outputs)\n",
    "                loss.backward()\n",
    "                optimizer.step()\n",
    "                running_loss += loss.item()\n",
    "            avg_loss = running_loss / len(train_loader)\n",
    "            train_loss.append(avg_loss)\n",
    "            test_l = compute_test_loss(test_loader, model)\n",
    "            test_loss.append(test_l)\n",
    "            print(f\"Epoch [{epoch + 1}/{epochs}], Loss: {avg_loss:.6f}, test: {test_l:.6f}, lr: {optimizer.param_groups[0]['lr']:6f}\")\n",
    "        train_losses.append(train_loss)\n",
    "        test_losses.append(test_loss)\n",
    "        mods.append(model)\n",
    "        plt.plot(train_loss[-50:])\n",
    "        plt.title(f'train_loss')\n",
    "        plt.legend()\n",
    "        plt.show()\n",
    "        print(\"Training Complete!\")\n",
    "    models.append(mods)\n",
    "    parameters.append(pars)\n"
   ]
  },
  {
   "cell_type": "code",
   "execution_count": null,
   "metadata": {},
   "outputs": [],
   "source": [
    "import dill \n",
    "with open(\"CC_house_kan.dill\", \"wb\") as f:\n",
    "    dill.dump(models, f)"
   ]
  }
 ],
 "metadata": {
  "kernelspec": {
   "display_name": "Python 3",
   "language": "python",
   "name": "python3"
  },
  "language_info": {
   "codemirror_mode": {
    "name": "ipython",
    "version": 3
   },
   "file_extension": ".py",
   "mimetype": "text/x-python",
   "name": "python",
   "nbconvert_exporter": "python",
   "pygments_lexer": "ipython3",
   "version": "3.11.3"
  }
 },
 "nbformat": 4,
 "nbformat_minor": 2
}
