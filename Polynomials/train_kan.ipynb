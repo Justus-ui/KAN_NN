{
 "cells": [
  {
   "cell_type": "code",
   "execution_count": 2,
   "metadata": {},
   "outputs": [
    {
     "data": {
      "text/plain": [
       "<module 'Kan_NN' from 'c:\\\\Users\\\\JP\\\\Documents\\\\TU Berlin\\\\Master\\\\Code_clean\\\\Kan_NN.py'>"
      ]
     },
     "execution_count": 2,
     "metadata": {},
     "output_type": "execute_result"
    }
   ],
   "source": [
    "import numpy as np\n",
    "import matplotlib.pyplot as plt\n",
    "import torch\n",
    "import torch.nn as nn\n",
    "import torch.optim as optim\n",
    "import math\n",
    "import os \n",
    "import sys\n",
    "sys.path.append(os.path.abspath(os.path.join(os.getcwd(), \"..\")))\n",
    "import Kan_NN\n",
    "import importlib\n",
    "importlib.reload(Kan_NN)"
   ]
  },
  {
   "cell_type": "code",
   "execution_count": 3,
   "metadata": {},
   "outputs": [],
   "source": [
    "def compute_sum(n, d):\n",
    "    total_sum = 0\n",
    "    for w in range(1, d + 1):\n",
    "        binom_n_w = math.comb(n, w)  # Compute binomial coefficient C(n, w)\n",
    "        binom_d_w = math.comb(d, w)  # Compute binomial coefficient C(d, w)\n",
    "        total_sum += (2 ** w) * binom_n_w * binom_d_w  # Add the term to the sum\n",
    "    return total_sum"
   ]
  },
  {
   "cell_type": "code",
   "execution_count": 4,
   "metadata": {},
   "outputs": [
    {
     "name": "stdout",
     "output_type": "stream",
     "text": [
      "[12, 312, 1]\n"
     ]
    }
   ],
   "source": [
    "##### Problem\n",
    "in_dim = 12\n",
    "degree = 2\n",
    "shape = [in_dim, compute_sum(in_dim, degree), 1]\n",
    "h = [16]\n",
    "Batch_size = 512\n",
    "print(shape)\n"
   ]
  },
  {
   "cell_type": "code",
   "execution_count": 5,
   "metadata": {},
   "outputs": [
    {
     "name": "stdout",
     "output_type": "stream",
     "text": [
      "[(0, 0, 0, 0, 0, 0, 0, 0, 0, 0, 0, 0), (0, 0, 0, 0, 0, 0, 0, 0, 0, 0, 0, 1), (0, 0, 0, 0, 0, 0, 0, 0, 0, 0, 0, 2), (0, 0, 0, 0, 0, 0, 0, 0, 0, 0, 1, 0), (0, 0, 0, 0, 0, 0, 0, 0, 0, 0, 1, 1), (0, 0, 0, 0, 0, 0, 0, 0, 0, 0, 2, 0), (0, 0, 0, 0, 0, 0, 0, 0, 0, 1, 0, 0), (0, 0, 0, 0, 0, 0, 0, 0, 0, 1, 0, 1), (0, 0, 0, 0, 0, 0, 0, 0, 0, 1, 1, 0), (0, 0, 0, 0, 0, 0, 0, 0, 0, 2, 0, 0), (0, 0, 0, 0, 0, 0, 0, 0, 1, 0, 0, 0), (0, 0, 0, 0, 0, 0, 0, 0, 1, 0, 0, 1), (0, 0, 0, 0, 0, 0, 0, 0, 1, 0, 1, 0), (0, 0, 0, 0, 0, 0, 0, 0, 1, 1, 0, 0), (0, 0, 0, 0, 0, 0, 0, 0, 2, 0, 0, 0), (0, 0, 0, 0, 0, 0, 0, 1, 0, 0, 0, 0), (0, 0, 0, 0, 0, 0, 0, 1, 0, 0, 0, 1), (0, 0, 0, 0, 0, 0, 0, 1, 0, 0, 1, 0), (0, 0, 0, 0, 0, 0, 0, 1, 0, 1, 0, 0), (0, 0, 0, 0, 0, 0, 0, 1, 1, 0, 0, 0), (0, 0, 0, 0, 0, 0, 0, 2, 0, 0, 0, 0), (0, 0, 0, 0, 0, 0, 1, 0, 0, 0, 0, 0), (0, 0, 0, 0, 0, 0, 1, 0, 0, 0, 0, 1), (0, 0, 0, 0, 0, 0, 1, 0, 0, 0, 1, 0), (0, 0, 0, 0, 0, 0, 1, 0, 0, 1, 0, 0), (0, 0, 0, 0, 0, 0, 1, 0, 1, 0, 0, 0), (0, 0, 0, 0, 0, 0, 1, 1, 0, 0, 0, 0), (0, 0, 0, 0, 0, 0, 2, 0, 0, 0, 0, 0), (0, 0, 0, 0, 0, 1, 0, 0, 0, 0, 0, 0), (0, 0, 0, 0, 0, 1, 0, 0, 0, 0, 0, 1), (0, 0, 0, 0, 0, 1, 0, 0, 0, 0, 1, 0), (0, 0, 0, 0, 0, 1, 0, 0, 0, 1, 0, 0), (0, 0, 0, 0, 0, 1, 0, 0, 1, 0, 0, 0), (0, 0, 0, 0, 0, 1, 0, 1, 0, 0, 0, 0), (0, 0, 0, 0, 0, 1, 1, 0, 0, 0, 0, 0), (0, 0, 0, 0, 0, 2, 0, 0, 0, 0, 0, 0), (0, 0, 0, 0, 1, 0, 0, 0, 0, 0, 0, 0), (0, 0, 0, 0, 1, 0, 0, 0, 0, 0, 0, 1), (0, 0, 0, 0, 1, 0, 0, 0, 0, 0, 1, 0), (0, 0, 0, 0, 1, 0, 0, 0, 0, 1, 0, 0), (0, 0, 0, 0, 1, 0, 0, 0, 1, 0, 0, 0), (0, 0, 0, 0, 1, 0, 0, 1, 0, 0, 0, 0), (0, 0, 0, 0, 1, 0, 1, 0, 0, 0, 0, 0), (0, 0, 0, 0, 1, 1, 0, 0, 0, 0, 0, 0), (0, 0, 0, 0, 2, 0, 0, 0, 0, 0, 0, 0), (0, 0, 0, 1, 0, 0, 0, 0, 0, 0, 0, 0), (0, 0, 0, 1, 0, 0, 0, 0, 0, 0, 0, 1), (0, 0, 0, 1, 0, 0, 0, 0, 0, 0, 1, 0), (0, 0, 0, 1, 0, 0, 0, 0, 0, 1, 0, 0), (0, 0, 0, 1, 0, 0, 0, 0, 1, 0, 0, 0), (0, 0, 0, 1, 0, 0, 0, 1, 0, 0, 0, 0), (0, 0, 0, 1, 0, 0, 1, 0, 0, 0, 0, 0), (0, 0, 0, 1, 0, 1, 0, 0, 0, 0, 0, 0), (0, 0, 0, 1, 1, 0, 0, 0, 0, 0, 0, 0), (0, 0, 0, 2, 0, 0, 0, 0, 0, 0, 0, 0), (0, 0, 1, 0, 0, 0, 0, 0, 0, 0, 0, 0), (0, 0, 1, 0, 0, 0, 0, 0, 0, 0, 0, 1), (0, 0, 1, 0, 0, 0, 0, 0, 0, 0, 1, 0), (0, 0, 1, 0, 0, 0, 0, 0, 0, 1, 0, 0), (0, 0, 1, 0, 0, 0, 0, 0, 1, 0, 0, 0), (0, 0, 1, 0, 0, 0, 0, 1, 0, 0, 0, 0), (0, 0, 1, 0, 0, 0, 1, 0, 0, 0, 0, 0), (0, 0, 1, 0, 0, 1, 0, 0, 0, 0, 0, 0), (0, 0, 1, 0, 1, 0, 0, 0, 0, 0, 0, 0), (0, 0, 1, 1, 0, 0, 0, 0, 0, 0, 0, 0), (0, 0, 2, 0, 0, 0, 0, 0, 0, 0, 0, 0), (0, 1, 0, 0, 0, 0, 0, 0, 0, 0, 0, 0), (0, 1, 0, 0, 0, 0, 0, 0, 0, 0, 0, 1), (0, 1, 0, 0, 0, 0, 0, 0, 0, 0, 1, 0), (0, 1, 0, 0, 0, 0, 0, 0, 0, 1, 0, 0), (0, 1, 0, 0, 0, 0, 0, 0, 1, 0, 0, 0), (0, 1, 0, 0, 0, 0, 0, 1, 0, 0, 0, 0), (0, 1, 0, 0, 0, 0, 1, 0, 0, 0, 0, 0), (0, 1, 0, 0, 0, 1, 0, 0, 0, 0, 0, 0), (0, 1, 0, 0, 1, 0, 0, 0, 0, 0, 0, 0), (0, 1, 0, 1, 0, 0, 0, 0, 0, 0, 0, 0), (0, 1, 1, 0, 0, 0, 0, 0, 0, 0, 0, 0), (0, 2, 0, 0, 0, 0, 0, 0, 0, 0, 0, 0), (1, 0, 0, 0, 0, 0, 0, 0, 0, 0, 0, 0), (1, 0, 0, 0, 0, 0, 0, 0, 0, 0, 0, 1), (1, 0, 0, 0, 0, 0, 0, 0, 0, 0, 1, 0), (1, 0, 0, 0, 0, 0, 0, 0, 0, 1, 0, 0), (1, 0, 0, 0, 0, 0, 0, 0, 1, 0, 0, 0), (1, 0, 0, 0, 0, 0, 0, 1, 0, 0, 0, 0), (1, 0, 0, 0, 0, 0, 1, 0, 0, 0, 0, 0), (1, 0, 0, 0, 0, 1, 0, 0, 0, 0, 0, 0), (1, 0, 0, 0, 1, 0, 0, 0, 0, 0, 0, 0), (1, 0, 0, 1, 0, 0, 0, 0, 0, 0, 0, 0), (1, 0, 1, 0, 0, 0, 0, 0, 0, 0, 0, 0), (1, 1, 0, 0, 0, 0, 0, 0, 0, 0, 0, 0), (2, 0, 0, 0, 0, 0, 0, 0, 0, 0, 0, 0)]\n",
      "tensor([ 1.9269,  1.4873,  0.9007, -2.1055,  0.6784, -1.2345, -0.0431, -1.6047,\n",
      "        -0.7521,  1.6487, -0.3925, -1.4036, -0.7279, -0.5594, -0.7688,  0.7624,\n",
      "         1.6423, -0.1596, -0.4974,  0.4396, -0.7581,  1.0783,  0.8008,  1.6806,\n",
      "         1.2791,  1.2964,  0.6105,  1.3347, -0.2316,  0.0418, -0.2516,  0.8599,\n",
      "        -1.3847, -0.8712, -0.2234,  1.7174,  0.3189, -0.4245,  0.3057, -0.7746,\n",
      "        -1.5576,  0.9956, -0.8798, -0.6011, -1.2742,  2.1228, -1.2347, -0.4879,\n",
      "        -0.9138, -0.6581,  0.0780,  0.5258, -0.4880,  1.1914, -0.8140, -0.7360,\n",
      "        -1.4032,  0.0360, -0.0635,  0.6756, -0.0978,  1.8446, -1.1845,  1.3835,\n",
      "         1.4451,  0.8564,  2.2181,  0.5232,  0.3466, -0.1973, -1.0546,  1.2780,\n",
      "        -0.1722,  0.5238,  0.0566,  0.9604,  0.4048, -1.3543, -0.4976,  0.4747,\n",
      "        -2.5095,  0.4880,  0.7846,  0.0981,  1.7423, -1.3527,  0.2191,  0.5526,\n",
      "        -0.1853,  0.7528,  0.4048])\n"
     ]
    }
   ],
   "source": [
    "import itertools\n",
    "class RandomPolynomial(torch.nn.Module):\n",
    "    def __init__(self, input_dim, degree):\n",
    "        super(RandomPolynomial, self).__init__()\n",
    "        self.input_dim = input_dim\n",
    "        self.degree = degree\n",
    "        self.exponents = self.generate_exponents(degree, input_dim)\n",
    "        torch.manual_seed(42)\n",
    "        self.coefficients = torch.randn(len(self.exponents))\n",
    "        print(self.exponents)\n",
    "        print(self.coefficients)\n",
    "\n",
    "    def forward(self, X):\n",
    "        batch_size = X.shape[0]\n",
    "        result = torch.zeros(batch_size, 1)\n",
    "\n",
    "        # For each monomial (term) in the polynomial, compute the corresponding product of powers of X\n",
    "        for idx, exp in enumerate(self.exponents):\n",
    "            term = torch.ones(batch_size, 1)\n",
    "            for dim, e in enumerate(exp):\n",
    "                term *= X[:, dim].pow(e).view(-1, 1)\n",
    "            result += self.coefficients[idx] * term\n",
    "        return result\n",
    "\n",
    "    def generate_exponents(self, degree, input_dim):\n",
    "        exponents = []\n",
    "        for exp_tuple in itertools.product(range(degree + 1), repeat=input_dim):\n",
    "            if sum(exp_tuple) <= degree:\n",
    "                exponents.append(exp_tuple)\n",
    "        return exponents\n",
    "    \n",
    "poly = RandomPolynomial(input_dim=in_dim, degree=degree)\n"
   ]
  },
  {
   "cell_type": "code",
   "execution_count": 6,
   "metadata": {},
   "outputs": [],
   "source": [
    "import time\n",
    "models = []\n",
    "params = [] \n",
    "max_depth = 1\n",
    "max_width = 1\n",
    "for depth in range(1,max_depth):\n",
    "    mods = []\n",
    "    pars = []\n",
    "    for i in range(1,max_width):\n",
    "        model = Kan_NN.Neural_Kan(shape = shape, h = [2**i] * depth)\n",
    "        print(model.params)\n",
    "        if model.params > 131072:\n",
    "            continue\n",
    "        epochs = 1\n",
    "        pars.append(model.params)\n",
    "        train_loss = []\n",
    "        model.train()\n",
    "        optimizer = optim.AdamW(model.parameters(), lr=0.001, weight_decay=0.)\n",
    "        criterion = torch.nn.MSELoss()\n",
    "        for epoch in range(epochs):\n",
    "            running_loss = 0.0 \n",
    "            for samples in range(10):\n",
    "                start_time = time.time()\n",
    "                optimizer.zero_grad()\n",
    "                input = torch.randn(Batch_size, in_dim)\n",
    "                target = poly(input)\n",
    "                outputs = model(input)\n",
    "                loss = criterion(target, outputs)\n",
    "                loss.backward()\n",
    "                optimizer.step()\n",
    "                running_loss += loss.item()\n",
    "            avg_loss = running_loss / 100\n",
    "            train_loss.append(avg_loss)\n",
    "            print(f\"Epoch [{epoch + 1}/{epochs}], Loss: {avg_loss:.6f}, lr: {optimizer.param_groups[0]['lr']:6f}\")\n",
    "        mods.append(model)\n",
    "        plt.plot(train_loss)\n",
    "        plt.title(f'train_loss on arbitary polynomial h = {[2**i] * depth}')\n",
    "        plt.legend()\n",
    "        plt.show()\n",
    "        print(\"Training Complete!\")\n",
    "    models.append(mods)\n",
    "    params.append(pars)\n"
   ]
  },
  {
   "cell_type": "code",
   "execution_count": 7,
   "metadata": {},
   "outputs": [],
   "source": [
    "import dill\n",
    "with open(\"polys_KAN.dill\", \"wb\") as f:\n",
    "    dill.dump(models, f)"
   ]
  }
 ],
 "metadata": {
  "kernelspec": {
   "display_name": "Python 3",
   "language": "python",
   "name": "python3"
  },
  "language_info": {
   "codemirror_mode": {
    "name": "ipython",
    "version": 3
   },
   "file_extension": ".py",
   "mimetype": "text/x-python",
   "name": "python",
   "nbconvert_exporter": "python",
   "pygments_lexer": "ipython3",
   "version": "3.11.3"
  }
 },
 "nbformat": 4,
 "nbformat_minor": 2
}
