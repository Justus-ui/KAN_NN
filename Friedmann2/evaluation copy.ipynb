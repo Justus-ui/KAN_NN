{
 "cells": [
  {
   "cell_type": "code",
   "execution_count": 1,
   "metadata": {},
   "outputs": [],
   "source": [
    "import numpy as np\n",
    "import matplotlib.pyplot as plt\n",
    "import torch\n",
    "import torch.nn as nn\n",
    "import torch.optim as optim\n",
    "import math\n",
    "import numpy as np\n",
    "from sklearn.datasets import make_friedman2\n",
    "from sklearn.model_selection import train_test_split\n",
    "from torch.utils.data import DataLoader, TensorDataset\n",
    "import sys\n",
    "import os\n",
    "sys.path.append(os.path.abspath(os.path.join(os.getcwd(), \"..\")))\n",
    "import Kan_NN\n",
    "import importlib\n",
    "importlib.reload(Kan_NN)\n",
    "import pickle\n",
    "with open('fried_2_scaler_X.pkl', 'rb') as f:\n",
    "    scaler_X = pickle.load(f)"
   ]
  },
  {
   "cell_type": "code",
   "execution_count": 8,
   "metadata": {},
   "outputs": [],
   "source": [
    "from sklearn.preprocessing import StandardScaler\n",
    "def get_loader(scaler_X, noise, n_samples = 20000):\n",
    "    # Set the seed for reproducibility\n",
    "    # Generate the Friedmann dataset\n",
    "    #X_train, y = make_friedman1(n_samples= n_samples, n_features=in_dim, noise=noise)\n",
    "    X_train, y = make_friedman2(n_samples= n_samples, noise=noise)\n",
    "    y_train = np.expand_dims(y, axis=1)\n",
    "    X_train = scaler_X.transform(X_train)  \n",
    "\n",
    "    X_train_tensor = torch.tensor(X_train, dtype=torch.float32)\n",
    "    y_train_tensor = torch.tensor(y_train, dtype=torch.float32)\n",
    "\n",
    "    # Create TensorDataset for train and test sets\n",
    "    train_dataset = TensorDataset(X_train_tensor, y_train_tensor)\n",
    "\n",
    "    # Set batch size and create DataLoader for training and testing\n",
    "    batch_size = n_samples\n",
    "    train_loader = DataLoader(train_dataset, batch_size=batch_size, shuffle=False)\n",
    "    return train_loader\n",
    "\n"
   ]
  },
  {
   "cell_type": "code",
   "execution_count": 9,
   "metadata": {},
   "outputs": [],
   "source": [
    "@torch.no_grad()\n",
    "def compute_test_loss(test_loader, model):\n",
    "    criterion = torch.nn.MSELoss()\n",
    "    running_loss = 0.\n",
    "    i = 0 \n",
    "    for batch, target in test_loader:\n",
    "        i += 1 \n",
    "        print(i, \"/\", len(test_loader))\n",
    "        outputs = model(batch)\n",
    "        loss = criterion(target, outputs)\n",
    "        running_loss += loss.item()\n",
    "    return running_loss / len(test_loader)"
   ]
  },
  {
   "cell_type": "code",
   "execution_count": 10,
   "metadata": {},
   "outputs": [],
   "source": [
    "import warnings\n",
    "warnings.simplefilter(\"ignore\")"
   ]
  },
  {
   "cell_type": "code",
   "execution_count": 12,
   "metadata": {},
   "outputs": [
    {
     "name": "stdout",
     "output_type": "stream",
     "text": [
      "1 / 1\n",
      "10 0.0 4 0.05567643418908119\n",
      "1 / 1\n",
      "10 0.2 4 0.06539797782897949\n",
      "1 / 1\n",
      "10 0.5 4 0.08282063901424408\n",
      "1 / 1\n",
      "10 1.0 4 0.2480413019657135\n"
     ]
    }
   ],
   "source": [
    "#### Evaluate models via for loop\n",
    "import time\n",
    "import dill\n",
    "widths = [10] ## Grids\n",
    "n_samples = 20000\n",
    "in_dims = [4]\n",
    "noises = [0.,0.2,0.5,1.]\n",
    "train_losses = []\n",
    "test_losses = []\n",
    "for width in widths:\n",
    "    for in_dim in in_dims:\n",
    "        for noise in noises:\n",
    "            test_loader = get_loader(scaler_X, noise = 0,n_samples =n_samples)\n",
    "            with open(f\"models/Friedmann_1_KAN_spline_arb_width_{noise}_{in_dim}.dill\", \"rb\") as f:\n",
    "                model = dill.load(f)\n",
    "            loss = compute_test_loss(test_loader, model)\n",
    "            print(width, noise, in_dim, loss)"
   ]
  }
 ],
 "metadata": {
  "kernelspec": {
   "display_name": "Python 3",
   "language": "python",
   "name": "python3"
  },
  "language_info": {
   "codemirror_mode": {
    "name": "ipython",
    "version": 3
   },
   "file_extension": ".py",
   "mimetype": "text/x-python",
   "name": "python",
   "nbconvert_exporter": "python",
   "pygments_lexer": "ipython3",
   "version": "3.11.3"
  }
 },
 "nbformat": 4,
 "nbformat_minor": 2
}
