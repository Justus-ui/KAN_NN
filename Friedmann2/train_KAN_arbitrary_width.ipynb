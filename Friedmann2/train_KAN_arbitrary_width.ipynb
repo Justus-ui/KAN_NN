{
 "cells": [
  {
   "cell_type": "code",
   "execution_count": 3,
   "metadata": {},
   "outputs": [],
   "source": [
    "import torch\n",
    "from kan import *\n",
    "import numpy as np"
   ]
  },
  {
   "cell_type": "code",
   "execution_count": 4,
   "metadata": {},
   "outputs": [],
   "source": [
    "from sklearn.preprocessing import StandardScaler\n",
    "from sklearn.datasets import make_friedman2\n",
    "import pickle\n",
    "\n",
    "def get_dataset(n_samples, noise):\n",
    "    seed = 42\n",
    "    np.random.seed(seed)\n",
    "    torch.manual_seed(seed)\n",
    "    X_train, y_train = make_friedman2(n_samples=int(0.8 * n_samples), random_state =seed, noise = noise)\n",
    "    X_test,y_test = make_friedman2(n_samples=int(0.2 * n_samples), noise = 0.)\n",
    "    with open('fried_2_scaler_X.pkl', 'rb') as f:\n",
    "        scaler_X = pickle.load(f)\n",
    "    X_train = scaler_X.fit_transform(X_train)\n",
    "    X_test = scaler_X.transform(X_test)\n",
    "\n",
    "    dataset_friedmann = {\n",
    "        'train_input': torch.tensor(X_train, dtype = torch.float32),\n",
    "        'test_input': torch.tensor(X_test, dtype = torch.float32),\n",
    "        'train_label': torch.tensor(y_train, dtype = torch.float32).unsqueeze(1),\n",
    "        'test_label': torch.tensor(y_test, dtype = torch.float32).unsqueeze(1)\n",
    "    }\n",
    "    return dataset_friedmann\n",
    "\n"
   ]
  },
  {
   "cell_type": "code",
   "execution_count": 8,
   "metadata": {},
   "outputs": [
    {
     "name": "stdout",
     "output_type": "stream",
     "text": [
      "checkpoint directory created: ./model\n",
      "saving model version 0.0\n",
      "4 2\n"
     ]
    },
    {
     "name": "stderr",
     "output_type": "stream",
     "text": [
      "| train_loss: 1.80e+00 | test_loss: 9.39e-01 | reg: 5.10e+02 | : 100%|█| 100/100 [1:27:02<00:00, 52.\n"
     ]
    },
    {
     "name": "stdout",
     "output_type": "stream",
     "text": [
      "saving model version 0.1\n",
      "checkpoint directory created: ./model\n",
      "saving model version 0.0\n",
      "4 5\n"
     ]
    },
    {
     "name": "stderr",
     "output_type": "stream",
     "text": [
      "| train_loss: 4.22e+00 | test_loss: 2.83e+00 | reg: 5.05e+02 | : 100%|█| 100/100 [1:28:48<00:00, 53.\n"
     ]
    },
    {
     "name": "stdout",
     "output_type": "stream",
     "text": [
      "saving model version 0.1\n"
     ]
    }
   ],
   "source": [
    "import time\n",
    "import dill\n",
    "adjust = True \n",
    "widths = [10,20,50] ## Grids| train_loss: 1.92e+00 | test_loss: 8.15e-01 | reg: 0.00e+00 | :  44%|▍| 44/100 [37:20<47:16, 50.65s\n",
    "\n",
    "n_samples = 20000\n",
    "in_dims = [4]\n",
    "noises = [2,5]\n",
    "train_losses = []\n",
    "test_losses = []\n",
    "for in_dim in in_dims:\n",
    "    for noise in noises:\n",
    "        model = KAN(width=[in_dim,64,1], grid=10, k=3)\n",
    "        dataset = get_dataset(n_samples = 20000, noise = noise)\n",
    "        print(in_dim, noise)\n",
    "        results = model.fit(dataset, opt=\"LBFGS\", steps= 100, stop_grid_update_step=30, batch = -1)\n",
    "        with open(f\"models/Friedmann_2_retake_KAN_spline_arb_width_{noise}_{in_dim}.dill\", \"wb\") as f:\n",
    "            dill.dump(model, f)"
   ]
  },
  {
   "cell_type": "code",
   "execution_count": null,
   "metadata": {},
   "outputs": [],
   "source": [
    "from sklearn.preprocessing import StandardScaler\n",
    "def get_loader(scaler_X, noise, n_samples = 20000):\n",
    "    seed = 42\n",
    "    np.random.seed(seed)\n",
    "    torch.manual_seed(seed)\n",
    "    X_train, y = make_friedman2(n_samples= n_samples, random_state =seed, noise=noise)\n",
    "    y_train = np.expand_dims(y, axis=1)\n",
    "    X_train = scaler_X.transform(X_train)  \n",
    "\n",
    "    X_train_tensor = torch.tensor(X_train, dtype=torch.float32)\n",
    "    y_train_tensor = torch.tensor(y_train, dtype=torch.float32)\n",
    "\n",
    "    # Create TensorDataset for train and test sets\n",
    "    train_dataset = TensorDataset(X_train_tensor, y_train_tensor)\n",
    "\n",
    "    # Set batch size and create DataLoader for training and testing\n",
    "    batch_size = n_samples\n",
    "    train_loader = DataLoader(train_dataset, batch_size=batch_size, shuffle=False)\n",
    "    return train_loader\n",
    "\n",
    "@torch.no_grad()\n",
    "def compute_test_loss(test_loader, model):\n",
    "    criterion = torch.nn.MSELoss()\n",
    "    running_loss = 0.\n",
    "    for batch, target in test_loader:\n",
    "        outputs = model(batch)\n",
    "        loss = criterion(target, outputs)\n",
    "        running_loss += loss.item()\n",
    "    return running_loss / len(test_loader)\n",
    "\n"
   ]
  },
  {
   "cell_type": "code",
   "execution_count": null,
   "metadata": {},
   "outputs": [],
   "source": [
    "import numpy as np\n",
    "import matplotlib.pyplot as plt\n",
    "import torch\n",
    "import torch.nn as nn\n",
    "import torch.optim as optim\n",
    "import math\n",
    "import numpy as np\n",
    "from sklearn.datasets import make_friedman2\n",
    "from sklearn.model_selection import train_test_split\n",
    "from torch.utils.data import DataLoader, TensorDataset\n",
    "import sys\n",
    "import os\n",
    "sys.path.append(os.path.abspath(os.path.join(os.getcwd(), \"..\")))\n",
    "import Kan_NN\n",
    "import importlib\n",
    "importlib.reload(Kan_NN)\n",
    "import pickle\n",
    "with open('fried_2_scaler_X.pkl', 'rb') as f:\n",
    "    scaler_X = pickle.load(f)"
   ]
  },
  {
   "cell_type": "code",
   "execution_count": null,
   "metadata": {},
   "outputs": [
    {
     "name": "stdout",
     "output_type": "stream",
     "text": [
      "0.20290407538414001\n"
     ]
    }
   ],
   "source": [
    "#### Evaluate models via for loop\n",
    "import time\n",
    "import dill\n",
    "n_samples = 30000\n",
    "\n",
    "test_loader = get_loader(scaler_X, noise = 0,n_samples =n_samples)\n",
    "loss = compute_test_loss(test_loader, model)\n",
    "print(loss)\n",
    "\n",
    "\n",
    "\n",
    "            "
   ]
  }
 ],
 "metadata": {
  "kernelspec": {
   "display_name": "Python 3",
   "language": "python",
   "name": "python3"
  },
  "language_info": {
   "codemirror_mode": {
    "name": "ipython",
    "version": 3
   },
   "file_extension": ".py",
   "mimetype": "text/x-python",
   "name": "python",
   "nbconvert_exporter": "python",
   "pygments_lexer": "ipython3",
   "version": "3.11.3"
  }
 },
 "nbformat": 4,
 "nbformat_minor": 2
}
