{
 "cells": [
  {
   "cell_type": "code",
   "execution_count": 1,
   "metadata": {},
   "outputs": [],
   "source": [
    "import torch\n",
    "from kan import *\n",
    "import numpy as np\n"
   ]
  },
  {
   "cell_type": "code",
   "execution_count": 2,
   "metadata": {},
   "outputs": [],
   "source": [
    "from sklearn.preprocessing import StandardScaler\n",
    "from sklearn.datasets import make_friedman3\n",
    "import pickle\n",
    "\n",
    "def get_dataset(n_samples, noise):\n",
    "    seed = 42\n",
    "    np.random.seed(seed)\n",
    "    torch.manual_seed(seed)\n",
    "    X_train, y_train = make_friedman3(n_samples=int(0.8 * n_samples),random_state=seed, noise = noise)\n",
    "    X_test,y_test = make_friedman3(n_samples=int(0.2 * n_samples),random_state=seed, noise = 0.)\n",
    "    with open('fried_3_scaler_X.pkl', 'rb') as f:\n",
    "        scaler_X = pickle.load(f)\n",
    "    X_train = scaler_X.fit_transform(X_train)\n",
    "    X_test = scaler_X.transform(X_test)\n",
    "\n",
    "    dataset_friedmann = {\n",
    "        'train_input': torch.tensor(X_train, dtype = torch.float32),\n",
    "        'test_input': torch.tensor(X_test, dtype = torch.float32),\n",
    "        'train_label': torch.tensor(y_train, dtype = torch.float32).unsqueeze(1),\n",
    "        'test_label': torch.tensor(y_test, dtype = torch.float32).unsqueeze(1)\n",
    "    }\n",
    "    return dataset_friedmann\n",
    "\n"
   ]
  },
  {
   "cell_type": "code",
   "execution_count": 4,
   "metadata": {},
   "outputs": [
    {
     "name": "stdout",
     "output_type": "stream",
     "text": [
      "checkpoint directory created: ./model\n",
      "saving model version 0.0\n",
      "4 0.0 10\n"
     ]
    },
    {
     "name": "stderr",
     "output_type": "stream",
     "text": [
      "| train_loss: 7.18e-02 | test_loss: 7.36e-02 | reg: 1.69e+01 | : 100%|█| 100/100 [2:50:28<00:00, 102\n"
     ]
    },
    {
     "name": "stdout",
     "output_type": "stream",
     "text": [
      "saving model version 0.1\n",
      "checkpoint directory created: ./model\n",
      "saving model version 0.0\n",
      "4 0.2 10\n"
     ]
    },
    {
     "name": "stderr",
     "output_type": "stream",
     "text": [
      "| train_loss: 2.10e-01 | test_loss: 9.27e-02 | reg: 1.82e+01 | : 100%|█| 100/100 [2:57:26<00:00, 106\n"
     ]
    },
    {
     "name": "stdout",
     "output_type": "stream",
     "text": [
      "saving model version 0.1\n",
      "checkpoint directory created: ./model\n",
      "saving model version 0.0\n",
      "4 0.5 10\n"
     ]
    },
    {
     "name": "stderr",
     "output_type": "stream",
     "text": [
      "| train_loss: 4.81e-01 | test_loss: 2.51e-01 | reg: 2.26e+01 | : 100%|█| 100/100 [2:44:18<00:00, 98.\n"
     ]
    },
    {
     "name": "stdout",
     "output_type": "stream",
     "text": [
      "saving model version 0.1\n",
      "checkpoint directory created: ./model\n",
      "saving model version 0.0\n",
      "4 1.0 10\n"
     ]
    },
    {
     "name": "stderr",
     "output_type": "stream",
     "text": [
      "| train_loss: 9.34e-01 | test_loss: 4.61e-01 | reg: 2.53e+01 | : 100%|█| 100/100 [2:44:15<00:00, 98.\n"
     ]
    },
    {
     "name": "stdout",
     "output_type": "stream",
     "text": [
      "saving model version 0.1\n"
     ]
    }
   ],
   "source": [
    "import time\n",
    "import dill\n",
    "adjust = True \n",
    "widths = [10] ## Grids\n",
    "n_samples = 20000\n",
    "in_dims = [4]\n",
    "noises = [0.,0.2,0.5,1.]\n",
    "train_losses = []\n",
    "test_losses = []\n",
    "for in_dim in in_dims:\n",
    "    for noise in noises:\n",
    "        models = []\n",
    "        for width in widths:\n",
    "            model = KAN(width=[4,13,1,1], grid=width, k=3)\n",
    "            dataset = get_dataset(n_samples = 20000, noise = noise)\n",
    "            print(in_dim, noise, width)\n",
    "            results = model.fit(dataset, opt=\"LBFGS\", steps= 100, stop_grid_update_step=30, batch = -1)\n",
    "            models.append(model)\n",
    "        with open(f\"models/Friedmann_1_KAN_spline_{noise}_{in_dim}.dill\", \"wb\") as f:\n",
    "            dill.dump(models, f)"
   ]
  }
 ],
 "metadata": {
  "kernelspec": {
   "display_name": "Python 3",
   "language": "python",
   "name": "python3"
  },
  "language_info": {
   "codemirror_mode": {
    "name": "ipython",
    "version": 3
   },
   "file_extension": ".py",
   "mimetype": "text/x-python",
   "name": "python",
   "nbconvert_exporter": "python",
   "pygments_lexer": "ipython3",
   "version": "3.11.3"
  }
 },
 "nbformat": 4,
 "nbformat_minor": 2
}
