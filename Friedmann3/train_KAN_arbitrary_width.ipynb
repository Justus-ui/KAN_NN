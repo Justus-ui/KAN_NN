{
 "cells": [
  {
   "cell_type": "code",
   "execution_count": 1,
   "metadata": {},
   "outputs": [],
   "source": [
    "import torch\n",
    "from kan import *\n",
    "import numpy as np"
   ]
  },
  {
   "cell_type": "code",
   "execution_count": 2,
   "metadata": {},
   "outputs": [],
   "source": [
    "from sklearn.preprocessing import StandardScaler\n",
    "from sklearn.datasets import make_friedman3\n",
    "import pickle\n",
    "\n",
    "def get_dataset(n_samples, noise):\n",
    "    seed = 42\n",
    "    np.random.seed(seed)\n",
    "    torch.manual_seed(seed)\n",
    "    X_train, y_train = make_friedman3(n_samples=int(0.8 * n_samples),random_state=seed, noise = noise)\n",
    "    X_test,y_test = make_friedman3(n_samples=int(0.2 * n_samples),random_state=seed, noise = 0.)\n",
    "    with open('fried_3_scaler_X.pkl', 'rb') as f:\n",
    "        scaler_X = pickle.load(f)\n",
    "    X_train = scaler_X.fit_transform(X_train)\n",
    "    X_test = scaler_X.transform(X_test)\n",
    "\n",
    "    dataset_friedmann = {\n",
    "        'train_input': torch.tensor(X_train, dtype = torch.float32),\n",
    "        'test_input': torch.tensor(X_test, dtype = torch.float32),\n",
    "        'train_label': torch.tensor(y_train, dtype = torch.float32).unsqueeze(1),\n",
    "        'test_label': torch.tensor(y_test, dtype = torch.float32).unsqueeze(1)\n",
    "    }\n",
    "    return dataset_friedmann\n",
    "\n"
   ]
  },
  {
   "cell_type": "code",
   "execution_count": 4,
   "metadata": {},
   "outputs": [
    {
     "name": "stdout",
     "output_type": "stream",
     "text": [
      "checkpoint directory created: ./model\n",
      "saving model version 0.0\n",
      "4 0.0\n"
     ]
    },
    {
     "name": "stderr",
     "output_type": "stream",
     "text": [
      "| train_loss: 1.09e-03 | test_loss: 1.12e-03 | reg: 4.76e+01 | : 100%|█| 100/100 [3:25:30<00:00, 123\n"
     ]
    },
    {
     "name": "stdout",
     "output_type": "stream",
     "text": [
      "saving model version 0.1\n",
      "checkpoint directory created: ./model\n",
      "saving model version 0.0\n",
      "4 0.2\n"
     ]
    },
    {
     "name": "stderr",
     "output_type": "stream",
     "text": [
      "| train_loss: 1.36e-01 | test_loss: 1.50e-01 | reg: 7.96e+01 | : 100%|█| 100/100 [3:22:23<00:00, 121\n"
     ]
    },
    {
     "name": "stdout",
     "output_type": "stream",
     "text": [
      "saving model version 0.1\n",
      "checkpoint directory created: ./model\n",
      "saving model version 0.0\n",
      "4 0.5\n"
     ]
    },
    {
     "name": "stderr",
     "output_type": "stream",
     "text": [
      "| train_loss: 3.37e-01 | test_loss: 3.64e-01 | reg: 9.34e+01 | : 100%|█| 100/100 [3:15:15<00:00, 117\n"
     ]
    },
    {
     "name": "stdout",
     "output_type": "stream",
     "text": [
      "saving model version 0.1\n",
      "checkpoint directory created: ./model\n",
      "saving model version 0.0\n",
      "4 1.0\n"
     ]
    },
    {
     "name": "stderr",
     "output_type": "stream",
     "text": [
      "| train_loss: 6.78e-01 | test_loss: 7.45e-01 | reg: 1.06e+02 | : 100%|█| 100/100 [3:05:42<00:00, 111\n"
     ]
    },
    {
     "name": "stdout",
     "output_type": "stream",
     "text": [
      "saving model version 0.1\n"
     ]
    }
   ],
   "source": [
    "import time\n",
    "import dill\n",
    "adjust = True \n",
    "widths = [10,20,50] ## Grids\n",
    "n_samples = 20000\n",
    "in_dims = [4]\n",
    "noises = [0.,0.2,0.5,1.]\n",
    "train_losses = []\n",
    "test_losses = []\n",
    "for in_dim in in_dims:\n",
    "    for noise in noises:\n",
    "        model = KAN(width=[in_dim,64,1], grid=10, k=3)\n",
    "        dataset = get_dataset(n_samples = 20000, noise = noise)\n",
    "        print(in_dim, noise)\n",
    "        results = model.fit(dataset, opt=\"LBFGS\", steps= 100, stop_grid_update_step=30, batch = -1)\n",
    "        with open(f\"models/Friedmann_1_KAN_spline_arb_width_{noise}_{in_dim}.dill\", \"wb\") as f:\n",
    "            dill.dump(model, f)"
   ]
  }
 ],
 "metadata": {
  "kernelspec": {
   "display_name": "Python 3",
   "language": "python",
   "name": "python3"
  },
  "language_info": {
   "codemirror_mode": {
    "name": "ipython",
    "version": 3
   },
   "file_extension": ".py",
   "mimetype": "text/x-python",
   "name": "python",
   "nbconvert_exporter": "python",
   "pygments_lexer": "ipython3",
   "version": "3.11.3"
  }
 },
 "nbformat": 4,
 "nbformat_minor": 2
}
