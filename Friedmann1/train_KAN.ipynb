{
 "cells": [
  {
   "cell_type": "code",
   "execution_count": null,
   "metadata": {},
   "outputs": [],
   "source": [
    "import torch\n",
    "from kan import *\n"
   ]
  },
  {
   "cell_type": "code",
   "execution_count": null,
   "metadata": {},
   "outputs": [],
   "source": [
    "from sklearn.datasets import make_friedman1\n",
    "\n",
    "def get_dataset(n_samples, n_features, noise):\n",
    "    X_train, y_train = make_friedman1(n_samples=int(0.8 * n_samples), n_features=n_features, noise = noise)\n",
    "    X_test,y_test = make_friedman1(n_samples=int(0.2 * n_samples), n_features=n_features, noise = 0.)\n",
    "    # Store the dataset in the desired dictionary format\n",
    "    dataset_friedmann = {\n",
    "        'train_input': torch.tensor(X_train, dtype = torch.float32),\n",
    "        'test_input': torch.tensor(X_test, dtype = torch.float32),\n",
    "        'train_label': torch.tensor(y_train, dtype = torch.float32).unsqueeze(1),\n",
    "        'test_label': torch.tensor(y_test, dtype = torch.float32).unsqueeze(1)\n",
    "    }\n",
    "    return dataset_friedmann\n",
    "\n"
   ]
  },
  {
   "cell_type": "code",
   "execution_count": null,
   "metadata": {},
   "outputs": [],
   "source": [
    "model = KAN(width=[15,6,2,1], grid=3, k=3)\n",
    "dataset = get_dataset(n_samples = 20000, n_features = 15 , noise = 1.)"
   ]
  },
  {
   "cell_type": "code",
   "execution_count": null,
   "metadata": {},
   "outputs": [],
   "source": [
    "model.fit(dataset, opt=\"LBFGS\", steps=20, batch = 1024, lamb = 0., lamb_l1 = 0, lamb_coeffdiff = 0, lamb_entropy = 0)\n",
    "grids = [10,20,50]\n",
    "models = []\n",
    "train_rmse = []\n",
    "test_rmse = []\n",
    "for i in range(len(grids)):\n",
    "    #model = KAN(width=[4,9,1], grid=grids[i], k=3, seed=0).initialize_from_another_model(model, dataset['train_input'])\n",
    "    model = model.refine(new_grid = grids[i])\n",
    "    results = model.fit(dataset, opt=\"LBFGS\", steps=50, stop_grid_update_step=30, batch = 1024)\n",
    "    train_rmse.append(results['train_loss'][-1].item())\n",
    "    test_rmse.append(results['test_loss'][-1].item())\n",
    "    models.append(model)"
   ]
  },
  {
   "cell_type": "code",
   "execution_count": null,
   "metadata": {},
   "outputs": [],
   "source": [
    "models[0]"
   ]
  },
  {
   "cell_type": "code",
   "execution_count": null,
   "metadata": {},
   "outputs": [],
   "source": [
    "import random\n",
    "mod = models[1]\n",
    "criterion = torch.nn.MSELoss()\n",
    "X_train, y_train = make_friedman1(n_samples=20000, n_features=15, random_state=random.randint(1,100), noise = 0.)\n",
    "out = mod(torch.tensor(X_train, dtype = torch.float32))#\n",
    "print(mod.grid)\n",
    "criterion(out, torch.tensor(y_train, dtype = torch.float32).unsqueeze(1))\n"
   ]
  },
  {
   "cell_type": "code",
   "execution_count": 12,
   "metadata": {},
   "outputs": [
    {
     "name": "stdout",
     "output_type": "stream",
     "text": [
      "checkpoint directory created: ./model\n",
      "saving model version 0.0\n",
      "5 0.0 10\n"
     ]
    },
    {
     "name": "stderr",
     "output_type": "stream",
     "text": [
      "| train_loss: 7.27e-02 | test_loss: 8.19e-02 | reg: 5.27e+01 | : 100%|█| 100/100 [2:44:17<00:00, 98.\n"
     ]
    },
    {
     "name": "stdout",
     "output_type": "stream",
     "text": [
      "saving model version 0.1\n",
      "checkpoint directory created: ./model\n",
      "saving model version 0.0\n",
      "5 0.0 20\n"
     ]
    },
    {
     "name": "stderr",
     "output_type": "stream",
     "text": [
      "| train_loss: 1.15e-01 | test_loss: 1.86e-01 | reg: 5.89e+01 | : 100%|█| 100/100 [2:59:58<00:00, 107\n"
     ]
    },
    {
     "name": "stdout",
     "output_type": "stream",
     "text": [
      "saving model version 0.1\n",
      "checkpoint directory created: ./model\n",
      "saving model version 0.0\n",
      "5 0.2 10\n"
     ]
    },
    {
     "name": "stderr",
     "output_type": "stream",
     "text": [
      "| train_loss: 2.01e-01 | test_loss: 1.02e-01 | reg: 5.73e+01 | : 100%|█| 100/100 [2:43:28<00:00, 98.\n"
     ]
    },
    {
     "name": "stdout",
     "output_type": "stream",
     "text": [
      "saving model version 0.1\n",
      "checkpoint directory created: ./model\n",
      "saving model version 0.0\n",
      "5 0.2 20\n"
     ]
    },
    {
     "name": "stderr",
     "output_type": "stream",
     "text": [
      "| train_loss: 1.99e-01 | test_loss: 3.64e-01 | reg: 4.04e+01 | : 100%|█| 100/100 [2:53:22<00:00, 104\n"
     ]
    },
    {
     "name": "stdout",
     "output_type": "stream",
     "text": [
      "saving model version 0.1\n",
      "checkpoint directory created: ./model\n",
      "saving model version 0.0\n",
      "5 0.5 10\n"
     ]
    },
    {
     "name": "stderr",
     "output_type": "stream",
     "text": [
      "| train_loss: 5.24e-01 | test_loss: 2.69e-01 | reg: 5.30e+01 | : 100%|█| 100/100 [2:03:23<00:00, 74.\n"
     ]
    },
    {
     "name": "stdout",
     "output_type": "stream",
     "text": [
      "saving model version 0.1\n",
      "checkpoint directory created: ./model\n",
      "saving model version 0.0\n",
      "5 0.5 20\n"
     ]
    },
    {
     "name": "stderr",
     "output_type": "stream",
     "text": [
      "| train_loss: 4.79e-01 | test_loss: 1.58e-01 | reg: 5.80e+01 | : 100%|█| 100/100 [41:21<00:00, 24.81\n"
     ]
    },
    {
     "name": "stdout",
     "output_type": "stream",
     "text": [
      "saving model version 0.1\n",
      "checkpoint directory created: ./model\n",
      "saving model version 0.0\n",
      "5 1.0 10\n"
     ]
    },
    {
     "name": "stderr",
     "output_type": "stream",
     "text": [
      "| train_loss: 9.78e-01 | test_loss: 3.33e-01 | reg: 5.87e+01 | : 100%|█| 100/100 [22:50<00:00, 13.70\n"
     ]
    },
    {
     "name": "stdout",
     "output_type": "stream",
     "text": [
      "saving model version 0.1\n",
      "checkpoint directory created: ./model\n",
      "saving model version 0.0\n",
      "5 1.0 20\n"
     ]
    },
    {
     "name": "stderr",
     "output_type": "stream",
     "text": [
      "| train_loss: 9.29e-01 | test_loss: 4.93e-01 | reg: 5.70e+01 | : 100%|█| 100/100 [28:44<00:00, 17.24\n"
     ]
    },
    {
     "name": "stdout",
     "output_type": "stream",
     "text": [
      "saving model version 0.1\n",
      "checkpoint directory created: ./model\n",
      "saving model version 0.0\n",
      "10 0.0 10\n"
     ]
    },
    {
     "name": "stderr",
     "output_type": "stream",
     "text": [
      "| train_loss: 1.00e-02 | test_loss: 1.16e-02 | reg: 3.88e+01 | : 100%|█| 100/100 [22:49<00:00, 13.70\n"
     ]
    },
    {
     "name": "stdout",
     "output_type": "stream",
     "text": [
      "saving model version 0.1\n",
      "checkpoint directory created: ./model\n",
      "saving model version 0.0\n",
      "10 0.0 20\n"
     ]
    },
    {
     "name": "stderr",
     "output_type": "stream",
     "text": [
      "| train_loss: 7.02e-03 | test_loss: 7.96e-03 | reg: 4.59e+01 | : 100%|█| 100/100 [32:47<00:00, 19.68\n"
     ]
    },
    {
     "name": "stdout",
     "output_type": "stream",
     "text": [
      "saving model version 0.1\n",
      "checkpoint directory created: ./model\n",
      "saving model version 0.0\n",
      "10 0.2 10\n"
     ]
    },
    {
     "name": "stderr",
     "output_type": "stream",
     "text": [
      "| train_loss: 1.90e-01 | test_loss: 6.37e-02 | reg: 4.03e+01 | : 100%|█| 100/100 [23:31<00:00, 14.12\n"
     ]
    },
    {
     "name": "stdout",
     "output_type": "stream",
     "text": [
      "saving model version 0.1\n",
      "checkpoint directory created: ./model\n",
      "saving model version 0.0\n",
      "10 0.2 20\n"
     ]
    },
    {
     "name": "stderr",
     "output_type": "stream",
     "text": [
      "| train_loss: 1.80e-01 | test_loss: 9.83e-02 | reg: 4.65e+01 | : 100%|█| 100/100 [33:14<00:00, 19.94\n"
     ]
    },
    {
     "name": "stdout",
     "output_type": "stream",
     "text": [
      "saving model version 0.1\n",
      "checkpoint directory created: ./model\n",
      "saving model version 0.0\n",
      "10 0.5 10\n"
     ]
    },
    {
     "name": "stderr",
     "output_type": "stream",
     "text": [
      "| train_loss: 4.67e-01 | test_loss: 1.78e-01 | reg: 4.41e+01 | : 100%|█| 100/100 [23:09<00:00, 13.89\n"
     ]
    },
    {
     "name": "stdout",
     "output_type": "stream",
     "text": [
      "saving model version 0.1\n",
      "checkpoint directory created: ./model\n",
      "saving model version 0.0\n",
      "10 0.5 20\n"
     ]
    },
    {
     "name": "stderr",
     "output_type": "stream",
     "text": [
      "| train_loss: 4.37e-01 | test_loss: 2.98e-01 | reg: 4.88e+01 | : 100%|█| 100/100 [32:22<00:00, 19.42\n"
     ]
    },
    {
     "name": "stdout",
     "output_type": "stream",
     "text": [
      "saving model version 0.1\n",
      "checkpoint directory created: ./model\n",
      "saving model version 0.0\n",
      "10 1.0 10\n"
     ]
    },
    {
     "name": "stderr",
     "output_type": "stream",
     "text": [
      "| train_loss: 9.12e-01 | test_loss: 4.52e-01 | reg: 4.73e+01 | : 100%|█| 100/100 [22:50<00:00, 13.70\n"
     ]
    },
    {
     "name": "stdout",
     "output_type": "stream",
     "text": [
      "saving model version 0.1\n",
      "checkpoint directory created: ./model\n",
      "saving model version 0.0\n",
      "10 1.0 20\n"
     ]
    },
    {
     "name": "stderr",
     "output_type": "stream",
     "text": [
      "| train_loss: 1.00e+00 | test_loss: 9.58e-01 | reg: 5.35e+01 | : 100%|█| 100/100 [31:43<00:00, 19.03\n"
     ]
    },
    {
     "name": "stdout",
     "output_type": "stream",
     "text": [
      "saving model version 0.1\n",
      "checkpoint directory created: ./model\n",
      "saving model version 0.0\n",
      "15 0.0 10\n"
     ]
    },
    {
     "name": "stderr",
     "output_type": "stream",
     "text": [
      "| train_loss: 2.25e-01 | test_loss: 2.45e-01 | reg: 6.17e+01 | : 100%|█| 100/100 [26:33<00:00, 15.93\n"
     ]
    },
    {
     "name": "stdout",
     "output_type": "stream",
     "text": [
      "saving model version 0.1\n",
      "checkpoint directory created: ./model\n",
      "saving model version 0.0\n",
      "15 0.0 20\n"
     ]
    },
    {
     "name": "stderr",
     "output_type": "stream",
     "text": [
      "| train_loss: 2.29e-01 | test_loss: 3.06e-01 | reg: 5.95e+01 | : 100%|█| 100/100 [37:53<00:00, 22.73\n"
     ]
    },
    {
     "name": "stdout",
     "output_type": "stream",
     "text": [
      "saving model version 0.1\n",
      "checkpoint directory created: ./model\n",
      "saving model version 0.0\n",
      "15 0.2 10\n"
     ]
    },
    {
     "name": "stderr",
     "output_type": "stream",
     "text": [
      "| train_loss: 5.60e-01 | test_loss: 5.60e-01 | reg: 6.44e+01 | : 100%|█| 100/100 [27:06<00:00, 16.27\n"
     ]
    },
    {
     "name": "stdout",
     "output_type": "stream",
     "text": [
      "saving model version 0.1\n",
      "checkpoint directory created: ./model\n",
      "saving model version 0.0\n",
      "15 0.2 20\n"
     ]
    },
    {
     "name": "stderr",
     "output_type": "stream",
     "text": [
      "| train_loss: 2.62e-01 | test_loss: 2.76e-01 | reg: 5.73e+01 | : 100%|█| 100/100 [37:39<00:00, 22.59\n"
     ]
    },
    {
     "name": "stdout",
     "output_type": "stream",
     "text": [
      "saving model version 0.1\n",
      "checkpoint directory created: ./model\n",
      "saving model version 0.0\n",
      "15 0.5 10\n"
     ]
    },
    {
     "name": "stderr",
     "output_type": "stream",
     "text": [
      "| train_loss: 6.13e-01 | test_loss: 4.33e-01 | reg: 6.43e+01 | : 100%|█| 100/100 [27:13<00:00, 16.33\n"
     ]
    },
    {
     "name": "stdout",
     "output_type": "stream",
     "text": [
      "saving model version 0.1\n",
      "checkpoint directory created: ./model\n",
      "saving model version 0.0\n",
      "15 0.5 20\n"
     ]
    },
    {
     "name": "stderr",
     "output_type": "stream",
     "text": [
      "| train_loss: 4.68e-01 | test_loss: 2.85e-01 | reg: 6.56e+01 | : 100%|█| 100/100 [37:43<00:00, 22.63\n"
     ]
    },
    {
     "name": "stdout",
     "output_type": "stream",
     "text": [
      "saving model version 0.1\n",
      "checkpoint directory created: ./model\n",
      "saving model version 0.0\n",
      "15 1.0 10\n"
     ]
    },
    {
     "name": "stderr",
     "output_type": "stream",
     "text": [
      "| train_loss: 1.27e+00 | test_loss: 9.30e-01 | reg: 7.08e+01 | : 100%|█| 100/100 [25:55<00:00, 15.56\n"
     ]
    },
    {
     "name": "stdout",
     "output_type": "stream",
     "text": [
      "saving model version 0.1\n",
      "checkpoint directory created: ./model\n",
      "saving model version 0.0\n",
      "15 1.0 20\n"
     ]
    },
    {
     "name": "stderr",
     "output_type": "stream",
     "text": [
      "| train_loss: 1.32e+00 | test_loss: 1.66e+00 | reg: 6.20e+01 | : 100%|█| 100/100 [36:07<00:00, 21.67\n"
     ]
    },
    {
     "name": "stdout",
     "output_type": "stream",
     "text": [
      "saving model version 0.1\n",
      "checkpoint directory created: ./model\n",
      "saving model version 0.0\n",
      "100 0.0 10\n"
     ]
    },
    {
     "name": "stderr",
     "output_type": "stream",
     "text": [
      "| train_loss: 1.27e+00 | test_loss: 1.38e+00 | reg: 1.47e+02 | : 100%|█| 100/100 [1:18:41<00:00, 47.\n"
     ]
    },
    {
     "name": "stdout",
     "output_type": "stream",
     "text": [
      "saving model version 0.1\n",
      "checkpoint directory created: ./model\n",
      "saving model version 0.0\n",
      "100 0.0 20\n"
     ]
    },
    {
     "name": "stderr",
     "output_type": "stream",
     "text": [
      "| train_loss: 2.09e-01 | test_loss: 2.22e+00 | reg: 1.33e+02 | : 100%|█| 100/100 [1:57:41<00:00, 70.\n"
     ]
    },
    {
     "name": "stdout",
     "output_type": "stream",
     "text": [
      "saving model version 0.1\n",
      "checkpoint directory created: ./model\n",
      "saving model version 0.0\n",
      "100 0.2 10\n"
     ]
    },
    {
     "name": "stderr",
     "output_type": "stream",
     "text": [
      "| train_loss: 1.60e+00 | test_loss: 1.68e+00 | reg: 1.10e+02 | : 100%|█| 100/100 [1:19:40<00:00, 47.\n"
     ]
    },
    {
     "name": "stdout",
     "output_type": "stream",
     "text": [
      "saving model version 0.1\n",
      "checkpoint directory created: ./model\n",
      "saving model version 0.0\n",
      "100 0.2 20\n"
     ]
    },
    {
     "name": "stderr",
     "output_type": "stream",
     "text": [
      "| train_loss: 1.70e-01 | test_loss: 1.99e+00 | reg: 1.12e+02 | : 100%|█| 100/100 [2:35:56<00:00, 93.\n"
     ]
    },
    {
     "name": "stdout",
     "output_type": "stream",
     "text": [
      "saving model version 0.1\n",
      "checkpoint directory created: ./model\n",
      "saving model version 0.0\n",
      "100 0.5 10\n"
     ]
    },
    {
     "name": "stderr",
     "output_type": "stream",
     "text": [
      "| train_loss: 1.56e+00 | test_loss: 1.55e+00 | reg: 1.10e+02 | : 100%|█| 100/100 [2:06:17<00:00, 75.\n"
     ]
    },
    {
     "name": "stdout",
     "output_type": "stream",
     "text": [
      "saving model version 0.1\n",
      "checkpoint directory created: ./model\n",
      "saving model version 0.0\n",
      "100 0.5 20\n"
     ]
    },
    {
     "name": "stderr",
     "output_type": "stream",
     "text": [
      "| train_loss: 1.11e-01 | test_loss: 9.22e-01 | reg: 9.42e+01 | : 100%|█| 100/100 [3:11:20<00:00, 114\n"
     ]
    },
    {
     "name": "stdout",
     "output_type": "stream",
     "text": [
      "saving model version 0.1\n",
      "checkpoint directory created: ./model\n",
      "saving model version 0.0\n",
      "100 1.0 10\n"
     ]
    },
    {
     "name": "stderr",
     "output_type": "stream",
     "text": [
      "| train_loss: 2.02e+00 | test_loss: 1.93e+00 | reg: 1.15e+02 | : 100%|█| 100/100 [2:58:03<00:00, 106\n"
     ]
    },
    {
     "name": "stdout",
     "output_type": "stream",
     "text": [
      "saving model version 0.1\n",
      "checkpoint directory created: ./model\n",
      "saving model version 0.0\n",
      "100 1.0 20\n"
     ]
    },
    {
     "name": "stderr",
     "output_type": "stream",
     "text": [
      "| train_loss: 3.35e-01 | test_loss: 2.52e+00 | reg: 9.38e+01 | : 100%|█| 100/100 [3:46:51<00:00, 136\n"
     ]
    },
    {
     "name": "stdout",
     "output_type": "stream",
     "text": [
      "saving model version 0.1\n"
     ]
    }
   ],
   "source": [
    "import time\n",
    "import dill\n",
    "adjust = True \n",
    "widths = [10,20] ## Grids\n",
    "n_samples = 20000\n",
    "in_dims = [5,10,15,100]\n",
    "in_dims = [5,10,15,100]\n",
    "noises = [0.,0.2,0.5,1.]\n",
    "train_losses = []\n",
    "test_losses = []\n",
    "for in_dim in in_dims:\n",
    "    for noise in noises:\n",
    "        models = []\n",
    "        for width in widths:\n",
    "            model = KAN(width=[in_dim,6,2,1], grid=width, k=3)\n",
    "            dataset = get_dataset(n_samples = 20000, n_features = in_dim , noise = noise)\n",
    "            print(in_dim, noise, width)\n",
    "            results = model.fit(dataset, opt=\"Adam\", steps= 100, stop_grid_update_step=30, batch = -1)\n",
    "            models.append(model)\n",
    "        with open(f\"models/Friedmann_1_KAN_spline_Adam{noise}_{in_dim}.dill\", \"wb\") as f:\n",
    "            dill.dump(models, f)"
   ]
  }
 ],
 "metadata": {
  "kernelspec": {
   "display_name": "Python 3",
   "language": "python",
   "name": "python3"
  },
  "language_info": {
   "codemirror_mode": {
    "name": "ipython",
    "version": 3
   },
   "file_extension": ".py",
   "mimetype": "text/x-python",
   "name": "python",
   "nbconvert_exporter": "python",
   "pygments_lexer": "ipython3",
   "version": "3.11.3"
  }
 },
 "nbformat": 4,
 "nbformat_minor": 2
}
